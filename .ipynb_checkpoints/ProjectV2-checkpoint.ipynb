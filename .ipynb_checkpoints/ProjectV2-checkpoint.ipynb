{
 "cells": [
  {
   "cell_type": "code",
   "execution_count": 739,
   "id": "919c5772",
   "metadata": {},
   "outputs": [],
   "source": [
    "# Import Pandas package\n",
    "import pandas as pd\n",
    "import matplotlib.pyplot as plt\n",
    "import numpy as np\n",
    "import datetime\n",
    "# import warnings"
   ]
  },
  {
   "cell_type": "code",
   "execution_count": 740,
   "id": "85d043d7",
   "metadata": {},
   "outputs": [],
   "source": [
    "origin = pd.read_csv('archive/steam.csv')"
   ]
  },
  {
   "cell_type": "code",
   "execution_count": 741,
   "id": "b8f109b5",
   "metadata": {},
   "outputs": [
    {
     "data": {
      "text/plain": [
       "appid               0\n",
       "name                0\n",
       "release_date        0\n",
       "english             0\n",
       "developer           0\n",
       "publisher           0\n",
       "platforms           0\n",
       "required_age        0\n",
       "categories          0\n",
       "genres              0\n",
       "steamspy_tags       0\n",
       "achievements        0\n",
       "positive_ratings    0\n",
       "negative_ratings    0\n",
       "average_playtime    0\n",
       "median_playtime     0\n",
       "owners              0\n",
       "price               0\n",
       "dtype: int64"
      ]
     },
     "execution_count": 741,
     "metadata": {},
     "output_type": "execute_result"
    }
   ],
   "source": [
    "# Check for null in the dataframe\n",
    "origin.isnull().sum()"
   ]
  },
  {
   "cell_type": "code",
   "execution_count": 742,
   "id": "8ae72d48",
   "metadata": {},
   "outputs": [],
   "source": [
    "# copy the main dataframe to keep as backup\n",
    "game = origin.copy() "
   ]
  },
  {
   "cell_type": "code",
   "execution_count": 743,
   "id": "86db21e5",
   "metadata": {},
   "outputs": [],
   "source": [
    "class crawler:\n",
    "    def __init__ (self, year=False, genres=False):        \n",
    "        if year and genres:\n",
    "            if type(year) != str:\n",
    "                self.year = str(year)\n",
    "            else:\n",
    "                self.year = year\n",
    "            try:\n",
    "                self.genres = genres.capitalize() # capitalize\n",
    "            except:\n",
    "                print(\"Please Enter genres in string\")\n",
    "                return\n",
    "        \n",
    "            print(\"Crawler Created\", self.year, self.genres)\n",
    "            print(\"use .showList to display list of data\")\n",
    "            print(\"use .getData to display list of data and graph\")\n",
    "        else:\n",
    "            print(\"Please enter genres and year of choice!\")\n",
    "    \n",
    "    # Filter the data based on provided genre, year and no of top listed row \n",
    "    def showList(self, row=10):\n",
    "        game = origin.copy()\n",
    "        game = game[(game['genres'].str.contains(self.genres) & (game['price'] > 0))]\n",
    "        \n",
    "        # Filter the data based on release date(yeear) and average playtime\n",
    "        game = game[pd.DatetimeIndex(game['release_date']).year == np.int64(self.year)].sort_values(by='average_playtime', ascending=False).reset_index()\n",
    "        \n",
    "        # get the difference ratings from the dataframe\n",
    "        game['difference_ratings'] = game['positive_ratings'] - game['negative_ratings']\n",
    "        \n",
    "        # Filter data from negative return from difference ratings\n",
    "        game = game[game['difference_ratings'] > 0].sort_values(by='difference_ratings', ascending=False).reset_index()\n",
    "        self.game = game\n",
    "        display(self.game[['name', 'release_date', 'developer', 'categories', 'genres', 'positive_ratings', 'negative_ratings','difference_ratings']].head(row))\n",
    "    \n",
    "    def getTopRating(self, row=10):\n",
    "        self.showList(row)\n",
    "        # plot data \n",
    "        plt.barh(y=self.game['name'].head(row), width=self.game['difference_ratings'].head(row))  \n",
    "        \n",
    "    def getTopRatingDetails(self, row=10):\n",
    "        self.showList(row)\n",
    "        dataLabels = ['positive', 'negative']\n",
    "        myexplode = [0.2, 0]\n",
    "        color = ['#99ff99', '#ff9999']\n",
    "        sRow = 1\n",
    "        pPlot= 1\n",
    "        for i in range(row):\n",
    "            if i%2 == 0 :\n",
    "                plt.figure(int(i/2))\n",
    "                pPlot = 1\n",
    "            # Run just once!\n",
    "            if i == 0:\n",
    "                # Create Title\n",
    "                plt.suptitle(\"RATING PERCENTAGE\")\n",
    "            # Get Column location\n",
    "            pCol = self.game.columns.get_loc('positive_ratings')\n",
    "            nCol = self.game.columns.get_loc('negative_ratings')\n",
    "            # save the column data into data as list\n",
    "            data = ([self.game.iloc[i,pCol], self.game.iloc[i,nCol]])\n",
    "            # Plot pie Chart\n",
    "            plt.subplot(sRow,2,pPlot)\n",
    "            plt.pie(data, colors=color, explode=myexplode, autopct='%.1f%%');\n",
    "            plt.title(self.game.iloc[i,3])\n",
    "            pPlot+=1\n",
    "            plt.legend(dataLabels)\n",
    "                \n",
    "#         plt.tight_layout() # to adjust padding\n",
    "        plt.show()\n",
    "            \n",
    "        "
   ]
  },
  {
   "cell_type": "code",
   "execution_count": 744,
   "id": "06dda903",
   "metadata": {},
   "outputs": [
    {
     "name": "stdout",
     "output_type": "stream",
     "text": [
      "Crawler Created 2017 Indie\n",
      "use .showList to display list of data\n",
      "use .getData to display list of data and graph\n"
     ]
    }
   ],
   "source": [
    "# Start\n",
    "info = crawler(genres=\"indie\", year=\"2017\")"
   ]
  },
  {
   "cell_type": "code",
   "execution_count": 745,
   "id": "a67e84a5",
   "metadata": {
    "scrolled": false
   },
   "outputs": [
    {
     "data": {
      "text/html": [
       "<div>\n",
       "<style scoped>\n",
       "    .dataframe tbody tr th:only-of-type {\n",
       "        vertical-align: middle;\n",
       "    }\n",
       "\n",
       "    .dataframe tbody tr th {\n",
       "        vertical-align: top;\n",
       "    }\n",
       "\n",
       "    .dataframe thead th {\n",
       "        text-align: right;\n",
       "    }\n",
       "</style>\n",
       "<table border=\"1\" class=\"dataframe\">\n",
       "  <thead>\n",
       "    <tr style=\"text-align: right;\">\n",
       "      <th></th>\n",
       "      <th>name</th>\n",
       "      <th>release_date</th>\n",
       "      <th>developer</th>\n",
       "      <th>categories</th>\n",
       "      <th>genres</th>\n",
       "      <th>positive_ratings</th>\n",
       "      <th>negative_ratings</th>\n",
       "      <th>difference_ratings</th>\n",
       "    </tr>\n",
       "  </thead>\n",
       "  <tbody>\n",
       "    <tr>\n",
       "      <th>0</th>\n",
       "      <td>ARK: Survival Evolved</td>\n",
       "      <td>2017-08-27</td>\n",
       "      <td>Studio Wildcard;Instinct Games;Efecto Studios;...</td>\n",
       "      <td>Single-player;Multi-player;MMO;Co-op;Steam Ach...</td>\n",
       "      <td>Action;Adventure;Indie;Massively Multiplayer;RPG</td>\n",
       "      <td>145035</td>\n",
       "      <td>66603</td>\n",
       "      <td>78432</td>\n",
       "    </tr>\n",
       "    <tr>\n",
       "      <th>1</th>\n",
       "      <td>The Long Dark</td>\n",
       "      <td>2017-08-01</td>\n",
       "      <td>Hinterland Studio Inc.</td>\n",
       "      <td>Single-player;Steam Achievements;Full controll...</td>\n",
       "      <td>Adventure;Indie;Simulation;Strategy</td>\n",
       "      <td>45856</td>\n",
       "      <td>4298</td>\n",
       "      <td>41558</td>\n",
       "    </tr>\n",
       "    <tr>\n",
       "      <th>2</th>\n",
       "      <td>Hollow Knight</td>\n",
       "      <td>2017-02-24</td>\n",
       "      <td>Team Cherry</td>\n",
       "      <td>Single-player;Steam Achievements;Full controll...</td>\n",
       "      <td>Action;Adventure;Indie</td>\n",
       "      <td>40167</td>\n",
       "      <td>1927</td>\n",
       "      <td>38240</td>\n",
       "    </tr>\n",
       "    <tr>\n",
       "      <th>3</th>\n",
       "      <td>Cuphead</td>\n",
       "      <td>2017-09-29</td>\n",
       "      <td>Studio MDHR Entertainment Inc.</td>\n",
       "      <td>Single-player;Local Co-op;Shared/Split Screen;...</td>\n",
       "      <td>Action;Indie</td>\n",
       "      <td>38821</td>\n",
       "      <td>1698</td>\n",
       "      <td>37123</td>\n",
       "    </tr>\n",
       "    <tr>\n",
       "      <th>4</th>\n",
       "      <td>Slime Rancher</td>\n",
       "      <td>2017-08-01</td>\n",
       "      <td>Monomi Park</td>\n",
       "      <td>Single-player;Steam Achievements;Full controll...</td>\n",
       "      <td>Action;Adventure;Indie;Simulation</td>\n",
       "      <td>24205</td>\n",
       "      <td>965</td>\n",
       "      <td>23240</td>\n",
       "    </tr>\n",
       "  </tbody>\n",
       "</table>\n",
       "</div>"
      ],
      "text/plain": [
       "                    name release_date  \\\n",
       "0  ARK: Survival Evolved   2017-08-27   \n",
       "1          The Long Dark   2017-08-01   \n",
       "2          Hollow Knight   2017-02-24   \n",
       "3                Cuphead   2017-09-29   \n",
       "4          Slime Rancher   2017-08-01   \n",
       "\n",
       "                                           developer  \\\n",
       "0  Studio Wildcard;Instinct Games;Efecto Studios;...   \n",
       "1                             Hinterland Studio Inc.   \n",
       "2                                        Team Cherry   \n",
       "3                     Studio MDHR Entertainment Inc.   \n",
       "4                                        Monomi Park   \n",
       "\n",
       "                                          categories  \\\n",
       "0  Single-player;Multi-player;MMO;Co-op;Steam Ach...   \n",
       "1  Single-player;Steam Achievements;Full controll...   \n",
       "2  Single-player;Steam Achievements;Full controll...   \n",
       "3  Single-player;Local Co-op;Shared/Split Screen;...   \n",
       "4  Single-player;Steam Achievements;Full controll...   \n",
       "\n",
       "                                             genres  positive_ratings  \\\n",
       "0  Action;Adventure;Indie;Massively Multiplayer;RPG            145035   \n",
       "1               Adventure;Indie;Simulation;Strategy             45856   \n",
       "2                            Action;Adventure;Indie             40167   \n",
       "3                                      Action;Indie             38821   \n",
       "4                 Action;Adventure;Indie;Simulation             24205   \n",
       "\n",
       "   negative_ratings  difference_ratings  \n",
       "0             66603               78432  \n",
       "1              4298               41558  \n",
       "2              1927               38240  \n",
       "3              1698               37123  \n",
       "4               965               23240  "
      ]
     },
     "metadata": {},
     "output_type": "display_data"
    },
    {
     "data": {
      "image/png": "[encoded data removed]",
      "text/plain": [
       "<Figure size 432x288 with 1 Axes>"
      ]
     },
     "metadata": {
      "needs_background": "light"
     },
     "output_type": "display_data"
    }
   ],
   "source": [
    "# Show first top 5 Data from the dataframe and display bar graph \n",
    "info.getTopRating(5)"
   ]
  },
  {
   "cell_type": "code",
   "execution_count": 746,
   "id": "29b23c94",
   "metadata": {
    "scrolled": false
   },
   "outputs": [],
   "source": [
    "# info.showList(5)"
   ]
  },
  {
   "cell_type": "code",
   "execution_count": 747,
   "id": "9f0e818f",
   "metadata": {},
   "outputs": [
    {
     "data": {
      "text/html": [
       "<div>\n",
       "<style scoped>\n",
       "    .dataframe tbody tr th:only-of-type {\n",
       "        vertical-align: middle;\n",
       "    }\n",
       "\n",
       "    .dataframe tbody tr th {\n",
       "        vertical-align: top;\n",
       "    }\n",
       "\n",
       "    .dataframe thead th {\n",
       "        text-align: right;\n",
       "    }\n",
       "</style>\n",
       "<table border=\"1\" class=\"dataframe\">\n",
       "  <thead>\n",
       "    <tr style=\"text-align: right;\">\n",
       "      <th></th>\n",
       "      <th>name</th>\n",
       "      <th>release_date</th>\n",
       "      <th>developer</th>\n",
       "      <th>categories</th>\n",
       "      <th>genres</th>\n",
       "      <th>positive_ratings</th>\n",
       "      <th>negative_ratings</th>\n",
       "      <th>difference_ratings</th>\n",
       "    </tr>\n",
       "  </thead>\n",
       "  <tbody>\n",
       "    <tr>\n",
       "      <th>0</th>\n",
       "      <td>ARK: Survival Evolved</td>\n",
       "      <td>2017-08-27</td>\n",
       "      <td>Studio Wildcard;Instinct Games;Efecto Studios;...</td>\n",
       "      <td>Single-player;Multi-player;MMO;Co-op;Steam Ach...</td>\n",
       "      <td>Action;Adventure;Indie;Massively Multiplayer;RPG</td>\n",
       "      <td>145035</td>\n",
       "      <td>66603</td>\n",
       "      <td>78432</td>\n",
       "    </tr>\n",
       "    <tr>\n",
       "      <th>1</th>\n",
       "      <td>The Long Dark</td>\n",
       "      <td>2017-08-01</td>\n",
       "      <td>Hinterland Studio Inc.</td>\n",
       "      <td>Single-player;Steam Achievements;Full controll...</td>\n",
       "      <td>Adventure;Indie;Simulation;Strategy</td>\n",
       "      <td>45856</td>\n",
       "      <td>4298</td>\n",
       "      <td>41558</td>\n",
       "    </tr>\n",
       "    <tr>\n",
       "      <th>2</th>\n",
       "      <td>Hollow Knight</td>\n",
       "      <td>2017-02-24</td>\n",
       "      <td>Team Cherry</td>\n",
       "      <td>Single-player;Steam Achievements;Full controll...</td>\n",
       "      <td>Action;Adventure;Indie</td>\n",
       "      <td>40167</td>\n",
       "      <td>1927</td>\n",
       "      <td>38240</td>\n",
       "    </tr>\n",
       "    <tr>\n",
       "      <th>3</th>\n",
       "      <td>Cuphead</td>\n",
       "      <td>2017-09-29</td>\n",
       "      <td>Studio MDHR Entertainment Inc.</td>\n",
       "      <td>Single-player;Local Co-op;Shared/Split Screen;...</td>\n",
       "      <td>Action;Indie</td>\n",
       "      <td>38821</td>\n",
       "      <td>1698</td>\n",
       "      <td>37123</td>\n",
       "    </tr>\n",
       "    <tr>\n",
       "      <th>4</th>\n",
       "      <td>Slime Rancher</td>\n",
       "      <td>2017-08-01</td>\n",
       "      <td>Monomi Park</td>\n",
       "      <td>Single-player;Steam Achievements;Full controll...</td>\n",
       "      <td>Action;Adventure;Indie;Simulation</td>\n",
       "      <td>24205</td>\n",
       "      <td>965</td>\n",
       "      <td>23240</td>\n",
       "    </tr>\n",
       "  </tbody>\n",
       "</table>\n",
       "</div>"
      ],
      "text/plain": [
       "                    name release_date  \\\n",
       "0  ARK: Survival Evolved   2017-08-27   \n",
       "1          The Long Dark   2017-08-01   \n",
       "2          Hollow Knight   2017-02-24   \n",
       "3                Cuphead   2017-09-29   \n",
       "4          Slime Rancher   2017-08-01   \n",
       "\n",
       "                                           developer  \\\n",
       "0  Studio Wildcard;Instinct Games;Efecto Studios;...   \n",
       "1                             Hinterland Studio Inc.   \n",
       "2                                        Team Cherry   \n",
       "3                     Studio MDHR Entertainment Inc.   \n",
       "4                                        Monomi Park   \n",
       "\n",
       "                                          categories  \\\n",
       "0  Single-player;Multi-player;MMO;Co-op;Steam Ach...   \n",
       "1  Single-player;Steam Achievements;Full controll...   \n",
       "2  Single-player;Steam Achievements;Full controll...   \n",
       "3  Single-player;Local Co-op;Shared/Split Screen;...   \n",
       "4  Single-player;Steam Achievements;Full controll...   \n",
       "\n",
       "                                             genres  positive_ratings  \\\n",
       "0  Action;Adventure;Indie;Massively Multiplayer;RPG            145035   \n",
       "1               Adventure;Indie;Simulation;Strategy             45856   \n",
       "2                            Action;Adventure;Indie             40167   \n",
       "3                                      Action;Indie             38821   \n",
       "4                 Action;Adventure;Indie;Simulation             24205   \n",
       "\n",
       "   negative_ratings  difference_ratings  \n",
       "0             66603               78432  \n",
       "1              4298               41558  \n",
       "2              1927               38240  \n",
       "3              1698               37123  \n",
       "4               965               23240  "
      ]
     },
     "metadata": {},
     "output_type": "display_data"
    },
    {
     "data": {
      "image/png": "[encoded data removed]",
      "text/plain": [
       "<Figure size 432x288 with 2 Axes>"
      ]
     },
     "metadata": {},
     "output_type": "display_data"
    },
    {
     "data": {
      "image/png": "[encoded data removed]",
      "text/plain": [
       "<Figure size 432x288 with 2 Axes>"
      ]
     },
     "metadata": {},
     "output_type": "display_data"
    },
    {
     "data": {
      "image/png": "[encoded data removed]",
      "text/plain": [
       "<Figure size 432x288 with 1 Axes>"
      ]
     },
     "metadata": {},
     "output_type": "display_data"
    }
   ],
   "source": [
    "info.getTopRatingDetails(5)"
   ]
  },
  {
   "cell_type": "code",
   "execution_count": null,
   "id": "29d93b5d",
   "metadata": {},
   "outputs": [],
   "source": []
  }
 ],
 "metadata": {
  "kernelspec": {
   "display_name": "Python 3 (ipykernel)",
   "language": "python",
   "name": "python3"
  },
  "language_info": {
   "codemirror_mode": {
    "name": "ipython",
    "version": 3
   },
   "file_extension": ".py",
   "mimetype": "text/x-python",
   "name": "python",
   "nbconvert_exporter": "python",
   "pygments_lexer": "ipython3",
   "version": "3.9.5"
  }
 },
 "nbformat": 4,
 "nbformat_minor": 5
}
