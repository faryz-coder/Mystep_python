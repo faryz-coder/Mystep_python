{
 "cells": [
  {
   "cell_type": "code",
   "execution_count": null,
   "id": "5dd01411",
   "metadata": {},
   "outputs": [],
   "source": [
    "# IMPORTANT\n",
    "# use bar chart and assign two axis"
   ]
  },
  {
   "cell_type": "code",
   "execution_count": 199,
   "id": "c6af8238",
   "metadata": {},
   "outputs": [],
   "source": [
    "# Import Pandas package\n",
    "import pandas as pd\n",
    "import matplotlib.pyplot as plt\n",
    "import numpy as np\n",
    "import datetime"
   ]
  },
  {
   "cell_type": "code",
   "execution_count": 185,
   "id": "81d5a47d",
   "metadata": {},
   "outputs": [],
   "source": [
    "origin = pd.read_csv('archive/steam.csv')"
   ]
  },
  {
   "cell_type": "code",
   "execution_count": 186,
   "id": "57c370b6",
   "metadata": {},
   "outputs": [
    {
     "data": {
      "text/plain": [
       "appid               0\n",
       "name                0\n",
       "release_date        0\n",
       "english             0\n",
       "developer           0\n",
       "publisher           0\n",
       "platforms           0\n",
       "required_age        0\n",
       "categories          0\n",
       "genres              0\n",
       "steamspy_tags       0\n",
       "achievements        0\n",
       "positive_ratings    0\n",
       "negative_ratings    0\n",
       "average_playtime    0\n",
       "median_playtime     0\n",
       "owners              0\n",
       "price               0\n",
       "dtype: int64"
      ]
     },
     "execution_count": 186,
     "metadata": {},
     "output_type": "execute_result"
    }
   ],
   "source": [
    "origin.isnull().sum()"
   ]
  },
  {
   "cell_type": "code",
   "execution_count": 189,
   "id": "5b57e050",
   "metadata": {},
   "outputs": [
    {
     "data": {
      "text/html": [
       "<div>\n",
       "<style scoped>\n",
       "    .dataframe tbody tr th:only-of-type {\n",
       "        vertical-align: middle;\n",
       "    }\n",
       "\n",
       "    .dataframe tbody tr th {\n",
       "        vertical-align: top;\n",
       "    }\n",
       "\n",
       "    .dataframe thead th {\n",
       "        text-align: right;\n",
       "    }\n",
       "</style>\n",
       "<table border=\"1\" class=\"dataframe\">\n",
       "  <thead>\n",
       "    <tr style=\"text-align: right;\">\n",
       "      <th></th>\n",
       "      <th>appid</th>\n",
       "      <th>name</th>\n",
       "      <th>release_date</th>\n",
       "      <th>english</th>\n",
       "      <th>developer</th>\n",
       "      <th>publisher</th>\n",
       "      <th>platforms</th>\n",
       "      <th>required_age</th>\n",
       "      <th>categories</th>\n",
       "      <th>genres</th>\n",
       "      <th>steamspy_tags</th>\n",
       "      <th>achievements</th>\n",
       "      <th>positive_ratings</th>\n",
       "      <th>negative_ratings</th>\n",
       "      <th>average_playtime</th>\n",
       "      <th>median_playtime</th>\n",
       "      <th>owners</th>\n",
       "      <th>price</th>\n",
       "    </tr>\n",
       "  </thead>\n",
       "  <tbody>\n",
       "    <tr>\n",
       "      <th>0</th>\n",
       "      <td>10</td>\n",
       "      <td>Counter-Strike</td>\n",
       "      <td>2000-11-01</td>\n",
       "      <td>1</td>\n",
       "      <td>Valve</td>\n",
       "      <td>Valve</td>\n",
       "      <td>windows;mac;linux</td>\n",
       "      <td>0</td>\n",
       "      <td>Multi-player;Online Multi-Player;Local Multi-P...</td>\n",
       "      <td>Action</td>\n",
       "      <td>Action;FPS;Multiplayer</td>\n",
       "      <td>0</td>\n",
       "      <td>124534</td>\n",
       "      <td>3339</td>\n",
       "      <td>17612</td>\n",
       "      <td>317</td>\n",
       "      <td>10000000-20000000</td>\n",
       "      <td>7.19</td>\n",
       "    </tr>\n",
       "    <tr>\n",
       "      <th>1</th>\n",
       "      <td>20</td>\n",
       "      <td>Team Fortress Classic</td>\n",
       "      <td>1999-04-01</td>\n",
       "      <td>1</td>\n",
       "      <td>Valve</td>\n",
       "      <td>Valve</td>\n",
       "      <td>windows;mac;linux</td>\n",
       "      <td>0</td>\n",
       "      <td>Multi-player;Online Multi-Player;Local Multi-P...</td>\n",
       "      <td>Action</td>\n",
       "      <td>Action;FPS;Multiplayer</td>\n",
       "      <td>0</td>\n",
       "      <td>3318</td>\n",
       "      <td>633</td>\n",
       "      <td>277</td>\n",
       "      <td>62</td>\n",
       "      <td>5000000-10000000</td>\n",
       "      <td>3.99</td>\n",
       "    </tr>\n",
       "    <tr>\n",
       "      <th>2</th>\n",
       "      <td>30</td>\n",
       "      <td>Day of Defeat</td>\n",
       "      <td>2003-05-01</td>\n",
       "      <td>1</td>\n",
       "      <td>Valve</td>\n",
       "      <td>Valve</td>\n",
       "      <td>windows;mac;linux</td>\n",
       "      <td>0</td>\n",
       "      <td>Multi-player;Valve Anti-Cheat enabled</td>\n",
       "      <td>Action</td>\n",
       "      <td>FPS;World War II;Multiplayer</td>\n",
       "      <td>0</td>\n",
       "      <td>3416</td>\n",
       "      <td>398</td>\n",
       "      <td>187</td>\n",
       "      <td>34</td>\n",
       "      <td>5000000-10000000</td>\n",
       "      <td>3.99</td>\n",
       "    </tr>\n",
       "    <tr>\n",
       "      <th>3</th>\n",
       "      <td>40</td>\n",
       "      <td>Deathmatch Classic</td>\n",
       "      <td>2001-06-01</td>\n",
       "      <td>1</td>\n",
       "      <td>Valve</td>\n",
       "      <td>Valve</td>\n",
       "      <td>windows;mac;linux</td>\n",
       "      <td>0</td>\n",
       "      <td>Multi-player;Online Multi-Player;Local Multi-P...</td>\n",
       "      <td>Action</td>\n",
       "      <td>Action;FPS;Multiplayer</td>\n",
       "      <td>0</td>\n",
       "      <td>1273</td>\n",
       "      <td>267</td>\n",
       "      <td>258</td>\n",
       "      <td>184</td>\n",
       "      <td>5000000-10000000</td>\n",
       "      <td>3.99</td>\n",
       "    </tr>\n",
       "    <tr>\n",
       "      <th>4</th>\n",
       "      <td>50</td>\n",
       "      <td>Half-Life: Opposing Force</td>\n",
       "      <td>1999-11-01</td>\n",
       "      <td>1</td>\n",
       "      <td>Gearbox Software</td>\n",
       "      <td>Valve</td>\n",
       "      <td>windows;mac;linux</td>\n",
       "      <td>0</td>\n",
       "      <td>Single-player;Multi-player;Valve Anti-Cheat en...</td>\n",
       "      <td>Action</td>\n",
       "      <td>FPS;Action;Sci-fi</td>\n",
       "      <td>0</td>\n",
       "      <td>5250</td>\n",
       "      <td>288</td>\n",
       "      <td>624</td>\n",
       "      <td>415</td>\n",
       "      <td>5000000-10000000</td>\n",
       "      <td>3.99</td>\n",
       "    </tr>\n",
       "  </tbody>\n",
       "</table>\n",
       "</div>"
      ],
      "text/plain": [
       "   appid                       name release_date  english         developer  \\\n",
       "0     10             Counter-Strike   2000-11-01        1             Valve   \n",
       "1     20      Team Fortress Classic   1999-04-01        1             Valve   \n",
       "2     30              Day of Defeat   2003-05-01        1             Valve   \n",
       "3     40         Deathmatch Classic   2001-06-01        1             Valve   \n",
       "4     50  Half-Life: Opposing Force   1999-11-01        1  Gearbox Software   \n",
       "\n",
       "  publisher          platforms  required_age  \\\n",
       "0     Valve  windows;mac;linux             0   \n",
       "1     Valve  windows;mac;linux             0   \n",
       "2     Valve  windows;mac;linux             0   \n",
       "3     Valve  windows;mac;linux             0   \n",
       "4     Valve  windows;mac;linux             0   \n",
       "\n",
       "                                          categories  genres  \\\n",
       "0  Multi-player;Online Multi-Player;Local Multi-P...  Action   \n",
       "1  Multi-player;Online Multi-Player;Local Multi-P...  Action   \n",
       "2              Multi-player;Valve Anti-Cheat enabled  Action   \n",
       "3  Multi-player;Online Multi-Player;Local Multi-P...  Action   \n",
       "4  Single-player;Multi-player;Valve Anti-Cheat en...  Action   \n",
       "\n",
       "                  steamspy_tags  achievements  positive_ratings  \\\n",
       "0        Action;FPS;Multiplayer             0            124534   \n",
       "1        Action;FPS;Multiplayer             0              3318   \n",
       "2  FPS;World War II;Multiplayer             0              3416   \n",
       "3        Action;FPS;Multiplayer             0              1273   \n",
       "4             FPS;Action;Sci-fi             0              5250   \n",
       "\n",
       "   negative_ratings  average_playtime  median_playtime             owners  \\\n",
       "0              3339             17612              317  10000000-20000000   \n",
       "1               633               277               62   5000000-10000000   \n",
       "2               398               187               34   5000000-10000000   \n",
       "3               267               258              184   5000000-10000000   \n",
       "4               288               624              415   5000000-10000000   \n",
       "\n",
       "   price  \n",
       "0   7.19  \n",
       "1   3.99  \n",
       "2   3.99  \n",
       "3   3.99  \n",
       "4   3.99  "
      ]
     },
     "execution_count": 189,
     "metadata": {},
     "output_type": "execute_result"
    }
   ],
   "source": [
    "# game.dropna(subset=['Year_of_Release', 'Genre'], inplace=True)\n",
    "game = origin.copy()\n",
    "game.head()"
   ]
  },
  {
   "cell_type": "code",
   "execution_count": 190,
   "id": "10656583",
   "metadata": {
    "scrolled": true
   },
   "outputs": [
    {
     "data": {
      "text/html": [
       "<div>\n",
       "<style scoped>\n",
       "    .dataframe tbody tr th:only-of-type {\n",
       "        vertical-align: middle;\n",
       "    }\n",
       "\n",
       "    .dataframe tbody tr th {\n",
       "        vertical-align: top;\n",
       "    }\n",
       "\n",
       "    .dataframe thead th {\n",
       "        text-align: right;\n",
       "    }\n",
       "</style>\n",
       "<table border=\"1\" class=\"dataframe\">\n",
       "  <thead>\n",
       "    <tr style=\"text-align: right;\">\n",
       "      <th></th>\n",
       "      <th>name</th>\n",
       "      <th>genres</th>\n",
       "      <th>owners</th>\n",
       "      <th>price</th>\n",
       "    </tr>\n",
       "  </thead>\n",
       "  <tbody>\n",
       "    <tr>\n",
       "      <th>26</th>\n",
       "      <td>Rag Doll Kung Fu</td>\n",
       "      <td>Indie</td>\n",
       "      <td>20000-50000</td>\n",
       "      <td>5.99</td>\n",
       "    </tr>\n",
       "    <tr>\n",
       "      <th>30</th>\n",
       "      <td>Darwinia</td>\n",
       "      <td>Indie;Strategy</td>\n",
       "      <td>500000-1000000</td>\n",
       "      <td>7.19</td>\n",
       "    </tr>\n",
       "    <tr>\n",
       "      <th>31</th>\n",
       "      <td>Uplink</td>\n",
       "      <td>Indie;Strategy</td>\n",
       "      <td>500000-1000000</td>\n",
       "      <td>6.99</td>\n",
       "    </tr>\n",
       "    <tr>\n",
       "      <th>32</th>\n",
       "      <td>DEFCON</td>\n",
       "      <td>Indie;Strategy</td>\n",
       "      <td>500000-1000000</td>\n",
       "      <td>7.19</td>\n",
       "    </tr>\n",
       "    <tr>\n",
       "      <th>33</th>\n",
       "      <td>Multiwinia</td>\n",
       "      <td>Indie</td>\n",
       "      <td>500000-1000000</td>\n",
       "      <td>7.19</td>\n",
       "    </tr>\n",
       "  </tbody>\n",
       "</table>\n",
       "</div>"
      ],
      "text/plain": [
       "                name          genres          owners  price\n",
       "26  Rag Doll Kung Fu           Indie     20000-50000   5.99\n",
       "30          Darwinia  Indie;Strategy  500000-1000000   7.19\n",
       "31            Uplink  Indie;Strategy  500000-1000000   6.99\n",
       "32            DEFCON  Indie;Strategy  500000-1000000   7.19\n",
       "33        Multiwinia           Indie  500000-1000000   7.19"
      ]
     },
     "execution_count": 190,
     "metadata": {},
     "output_type": "execute_result"
    }
   ],
   "source": [
    "# get Genre and Price > 0 \n",
    "game = game[(game['genres'].str.contains('Indie') & (game['price'] > 0))]\n",
    "game[['name', 'genres', 'owners', 'price']].head()"
   ]
  },
  {
   "cell_type": "code",
   "execution_count": 245,
   "id": "c86b08e8",
   "metadata": {
    "scrolled": false
   },
   "outputs": [
    {
     "data": {
      "text/html": [
       "<div>\n",
       "<style scoped>\n",
       "    .dataframe tbody tr th:only-of-type {\n",
       "        vertical-align: middle;\n",
       "    }\n",
       "\n",
       "    .dataframe tbody tr th {\n",
       "        vertical-align: top;\n",
       "    }\n",
       "\n",
       "    .dataframe thead th {\n",
       "        text-align: right;\n",
       "    }\n",
       "</style>\n",
       "<table border=\"1\" class=\"dataframe\">\n",
       "  <thead>\n",
       "    <tr style=\"text-align: right;\">\n",
       "      <th></th>\n",
       "      <th>index</th>\n",
       "      <th>appid</th>\n",
       "      <th>name</th>\n",
       "      <th>release_date</th>\n",
       "      <th>english</th>\n",
       "      <th>developer</th>\n",
       "      <th>publisher</th>\n",
       "      <th>platforms</th>\n",
       "      <th>required_age</th>\n",
       "      <th>categories</th>\n",
       "      <th>genres</th>\n",
       "      <th>steamspy_tags</th>\n",
       "      <th>achievements</th>\n",
       "      <th>positive_ratings</th>\n",
       "      <th>negative_ratings</th>\n",
       "      <th>average_playtime</th>\n",
       "      <th>median_playtime</th>\n",
       "      <th>owners</th>\n",
       "      <th>price</th>\n",
       "    </tr>\n",
       "  </thead>\n",
       "  <tbody>\n",
       "    <tr>\n",
       "      <th>0</th>\n",
       "      <td>30</td>\n",
       "      <td>1500</td>\n",
       "      <td>Darwinia</td>\n",
       "      <td>2005-07-14</td>\n",
       "      <td>1</td>\n",
       "      <td>Introversion Software</td>\n",
       "      <td>Introversion Software</td>\n",
       "      <td>windows;mac;linux</td>\n",
       "      <td>0</td>\n",
       "      <td>Single-player</td>\n",
       "      <td>Indie;Strategy</td>\n",
       "      <td>Strategy;Indie;RTS</td>\n",
       "      <td>0</td>\n",
       "      <td>472</td>\n",
       "      <td>158</td>\n",
       "      <td>182</td>\n",
       "      <td>273</td>\n",
       "      <td>500000-1000000</td>\n",
       "      <td>7.19</td>\n",
       "    </tr>\n",
       "    <tr>\n",
       "      <th>1</th>\n",
       "      <td>26</td>\n",
       "      <td>1002</td>\n",
       "      <td>Rag Doll Kung Fu</td>\n",
       "      <td>2005-10-12</td>\n",
       "      <td>1</td>\n",
       "      <td>Mark Healey</td>\n",
       "      <td>Mark Healey</td>\n",
       "      <td>windows</td>\n",
       "      <td>0</td>\n",
       "      <td>Single-player;Multi-player</td>\n",
       "      <td>Indie</td>\n",
       "      <td>Indie;Fighting;Multiplayer</td>\n",
       "      <td>0</td>\n",
       "      <td>40</td>\n",
       "      <td>17</td>\n",
       "      <td>0</td>\n",
       "      <td>0</td>\n",
       "      <td>20000-50000</td>\n",
       "      <td>5.99</td>\n",
       "    </tr>\n",
       "  </tbody>\n",
       "</table>\n",
       "</div>"
      ],
      "text/plain": [
       "   index  appid              name release_date  english  \\\n",
       "0     30   1500          Darwinia   2005-07-14        1   \n",
       "1     26   1002  Rag Doll Kung Fu   2005-10-12        1   \n",
       "\n",
       "               developer              publisher          platforms  \\\n",
       "0  Introversion Software  Introversion Software  windows;mac;linux   \n",
       "1            Mark Healey            Mark Healey            windows   \n",
       "\n",
       "   required_age                  categories          genres  \\\n",
       "0             0               Single-player  Indie;Strategy   \n",
       "1             0  Single-player;Multi-player           Indie   \n",
       "\n",
       "                steamspy_tags  achievements  positive_ratings  \\\n",
       "0          Strategy;Indie;RTS             0               472   \n",
       "1  Indie;Fighting;Multiplayer             0                40   \n",
       "\n",
       "   negative_ratings  average_playtime  median_playtime          owners  price  \n",
       "0               158               182              273  500000-1000000   7.19  \n",
       "1                17                 0                0     20000-50000   5.99  "
      ]
     },
     "execution_count": 245,
     "metadata": {},
     "output_type": "execute_result"
    }
   ],
   "source": [
    "# pd.DatetimeIndex(game['release_date']).year[0] == np.int64('2005')\n",
    "# FILTER BASED ON RELEASE DATE AND AVERAGE PLAYTIME\n",
    "filterDate = game[pd.DatetimeIndex(game['release_date']).year == np.int64('2005')].sort_values(by='average_playtime', ascending=False).reset_index()\n",
    "filterDate"
   ]
  },
  {
   "cell_type": "code",
   "execution_count": 265,
   "id": "6ee2470e",
   "metadata": {},
   "outputs": [],
   "source": [
    "# GET THE DIFFERENCE BETWEEN POSITIVE AND NEGATIVE RATINGS\n",
    "filterDate['difference_ratings'] = filterDate['positive_ratings'] - filterDate['negative_ratings']"
   ]
  },
  {
   "cell_type": "code",
   "execution_count": 275,
   "id": "73cbb0fa",
   "metadata": {},
   "outputs": [],
   "source": [
    "# FILTER THE DATA FROM NEGATIVE DIFFERENCE\n",
    "filterDate = filterDate[filterDate['difference_ratings'] > 0]"
   ]
  },
  {
   "cell_type": "code",
   "execution_count": 279,
   "id": "7ec1ae34",
   "metadata": {},
   "outputs": [
    {
     "data": {
      "text/plain": [
       "<BarContainer object of 2 artists>"
      ]
     },
     "execution_count": 279,
     "metadata": {},
     "output_type": "execute_result"
    },
    {
     "data": {
      "image/png": "[encoded data removed]",
      "text/plain": [
       "<Figure size 432x288 with 1 Axes>"
      ]
     },
     "metadata": {
      "needs_background": "light"
     },
     "output_type": "display_data"
    }
   ],
   "source": [
    "plt.bar(x=filterDate['name'].head(10), height=filterDate['difference_ratings'].head(10))"
   ]
  },
  {
   "cell_type": "code",
   "execution_count": 443,
   "id": "b2239008",
   "metadata": {
    "scrolled": false
   },
   "outputs": [
    {
     "data": {
      "text/html": [
       "<div>\n",
       "<style scoped>\n",
       "    .dataframe tbody tr th:only-of-type {\n",
       "        vertical-align: middle;\n",
       "    }\n",
       "\n",
       "    .dataframe tbody tr th {\n",
       "        vertical-align: top;\n",
       "    }\n",
       "\n",
       "    .dataframe thead th {\n",
       "        text-align: right;\n",
       "    }\n",
       "</style>\n",
       "<table border=\"1\" class=\"dataframe\">\n",
       "  <thead>\n",
       "    <tr style=\"text-align: right;\">\n",
       "      <th></th>\n",
       "      <th>index</th>\n",
       "      <th>appid</th>\n",
       "      <th>name</th>\n",
       "      <th>release_date</th>\n",
       "      <th>english</th>\n",
       "      <th>developer</th>\n",
       "      <th>publisher</th>\n",
       "      <th>platforms</th>\n",
       "      <th>required_age</th>\n",
       "      <th>categories</th>\n",
       "      <th>genres</th>\n",
       "      <th>steamspy_tags</th>\n",
       "      <th>achievements</th>\n",
       "      <th>positive_ratings</th>\n",
       "      <th>negative_ratings</th>\n",
       "      <th>average_playtime</th>\n",
       "      <th>median_playtime</th>\n",
       "      <th>owners</th>\n",
       "      <th>price</th>\n",
       "      <th>difference_ratings</th>\n",
       "    </tr>\n",
       "  </thead>\n",
       "  <tbody>\n",
       "    <tr>\n",
       "      <th>0</th>\n",
       "      <td>30</td>\n",
       "      <td>1500</td>\n",
       "      <td>Darwinia</td>\n",
       "      <td>2005-07-14</td>\n",
       "      <td>1</td>\n",
       "      <td>Introversion Software</td>\n",
       "      <td>Introversion Software</td>\n",
       "      <td>windows;mac;linux</td>\n",
       "      <td>0</td>\n",
       "      <td>Single-player</td>\n",
       "      <td>Indie;Strategy</td>\n",
       "      <td>Strategy;Indie;RTS</td>\n",
       "      <td>0</td>\n",
       "      <td>472</td>\n",
       "      <td>158</td>\n",
       "      <td>182</td>\n",
       "      <td>273</td>\n",
       "      <td>500000-1000000</td>\n",
       "      <td>7.19</td>\n",
       "      <td>314</td>\n",
       "    </tr>\n",
       "    <tr>\n",
       "      <th>1</th>\n",
       "      <td>26</td>\n",
       "      <td>1002</td>\n",
       "      <td>Rag Doll Kung Fu</td>\n",
       "      <td>2005-10-12</td>\n",
       "      <td>1</td>\n",
       "      <td>Mark Healey</td>\n",
       "      <td>Mark Healey</td>\n",
       "      <td>windows</td>\n",
       "      <td>0</td>\n",
       "      <td>Single-player;Multi-player</td>\n",
       "      <td>Indie</td>\n",
       "      <td>Indie;Fighting;Multiplayer</td>\n",
       "      <td>0</td>\n",
       "      <td>40</td>\n",
       "      <td>17</td>\n",
       "      <td>0</td>\n",
       "      <td>0</td>\n",
       "      <td>20000-50000</td>\n",
       "      <td>5.99</td>\n",
       "      <td>23</td>\n",
       "    </tr>\n",
       "  </tbody>\n",
       "</table>\n",
       "</div>"
      ],
      "text/plain": [
       "   index  appid              name release_date  english  \\\n",
       "0     30   1500          Darwinia   2005-07-14        1   \n",
       "1     26   1002  Rag Doll Kung Fu   2005-10-12        1   \n",
       "\n",
       "               developer              publisher          platforms  \\\n",
       "0  Introversion Software  Introversion Software  windows;mac;linux   \n",
       "1            Mark Healey            Mark Healey            windows   \n",
       "\n",
       "   required_age                  categories          genres  \\\n",
       "0             0               Single-player  Indie;Strategy   \n",
       "1             0  Single-player;Multi-player           Indie   \n",
       "\n",
       "                steamspy_tags  achievements  positive_ratings  \\\n",
       "0          Strategy;Indie;RTS             0               472   \n",
       "1  Indie;Fighting;Multiplayer             0                40   \n",
       "\n",
       "   negative_ratings  average_playtime  median_playtime          owners  price  \\\n",
       "0               158               182              273  500000-1000000   7.19   \n",
       "1                17                 0                0     20000-50000   5.99   \n",
       "\n",
       "   difference_ratings  \n",
       "0                 314  \n",
       "1                  23  "
      ]
     },
     "metadata": {},
     "output_type": "display_data"
    },
    {
     "data": {
      "image/png": "[encoded data removed]",
      "text/plain": [
       "<Figure size 432x288 with 4 Axes>"
      ]
     },
     "metadata": {},
     "output_type": "display_data"
    }
   ],
   "source": [
    "display(filterDate.head())\n",
    "\n",
    "# plt.bar(x=filterDate['name'].head(10), height=filterDate['difference_ratings'].head(10))\n",
    "data = ([filterDate.iloc[0,13], filterDate.iloc[0,14]])\n",
    "dataLabels = ['positive_ratings', 'negative_ratings']\n",
    "myexplode = [0.2, 0]\n",
    "color = ['#99ff99', '#ff9999']\n",
    "\n",
    "# plt.figure(0)\n",
    "plt.suptitle(\"RATING PERCENTAGE\")\n",
    "\n",
    "plt.subplot(2,2,1)\n",
    "#the figure has 1 row, 2 columns, and this plot is the first plot.\n",
    "plt.pie(data, labels= dataLabels, explode=myexplode, shadow=True, colors=color, autopct='%.1f%%');\n",
    "plt.title('Test Titledadadasdadasdada')\n",
    "\n",
    "plt.subplot(2,2,2)\n",
    "#the figure has 1 row, 2 columns, and this plot is the first plot.\n",
    "plt.pie(data, labels= dataLabels, explode=myexplode, shadow=True, colors=color, autopct='%.1f%%');\n",
    "plt.title('Test Title')\n",
    "\n",
    "# plt.figure(1)\n",
    "plt.subplot(2,2,3)\n",
    "#the figure has 1 row, 2 columns, and this plot is the first plot.\n",
    "plt.pie(data, labels= dataLabels, explode=myexplode, shadow=True, colors=color, autopct='%.1f%%');\n",
    "plt.title('Test Title')\n",
    "\n",
    "plt.subplot(2,2,4)\n",
    "#the figure has 1 row, 2 columns, and this plot is the first plot.\n",
    "plt.pie(data, labels= dataLabels, explode=myexplode, shadow=True, colors=color, autopct='%.1f%%');\n",
    "plt.title('Test Title')\n",
    "\n",
    "plt.tight_layout(pad= 0) # to adjust padding\n",
    "\n",
    "plt.show()"
   ]
  },
  {
   "cell_type": "code",
   "execution_count": 437,
   "id": "851c37dc",
   "metadata": {},
   "outputs": [
    {
     "data": {
      "text/html": [
       "<div>\n",
       "<style scoped>\n",
       "    .dataframe tbody tr th:only-of-type {\n",
       "        vertical-align: middle;\n",
       "    }\n",
       "\n",
       "    .dataframe tbody tr th {\n",
       "        vertical-align: top;\n",
       "    }\n",
       "\n",
       "    .dataframe thead th {\n",
       "        text-align: right;\n",
       "    }\n",
       "</style>\n",
       "<table border=\"1\" class=\"dataframe\">\n",
       "  <thead>\n",
       "    <tr style=\"text-align: right;\">\n",
       "      <th></th>\n",
       "      <th>index</th>\n",
       "      <th>appid</th>\n",
       "      <th>name</th>\n",
       "      <th>release_date</th>\n",
       "      <th>english</th>\n",
       "      <th>developer</th>\n",
       "      <th>publisher</th>\n",
       "      <th>platforms</th>\n",
       "      <th>required_age</th>\n",
       "      <th>categories</th>\n",
       "      <th>genres</th>\n",
       "      <th>steamspy_tags</th>\n",
       "      <th>achievements</th>\n",
       "      <th>positive_ratings</th>\n",
       "      <th>negative_ratings</th>\n",
       "      <th>average_playtime</th>\n",
       "      <th>median_playtime</th>\n",
       "      <th>owners</th>\n",
       "      <th>price</th>\n",
       "      <th>difference_ratings</th>\n",
       "    </tr>\n",
       "  </thead>\n",
       "  <tbody>\n",
       "    <tr>\n",
       "      <th>0</th>\n",
       "      <td>30</td>\n",
       "      <td>1500</td>\n",
       "      <td>Darwinia</td>\n",
       "      <td>2005-07-14</td>\n",
       "      <td>1</td>\n",
       "      <td>Introversion Software</td>\n",
       "      <td>Introversion Software</td>\n",
       "      <td>windows;mac;linux</td>\n",
       "      <td>0</td>\n",
       "      <td>Single-player</td>\n",
       "      <td>Indie;Strategy</td>\n",
       "      <td>Strategy;Indie;RTS</td>\n",
       "      <td>0</td>\n",
       "      <td>472</td>\n",
       "      <td>158</td>\n",
       "      <td>182</td>\n",
       "      <td>273</td>\n",
       "      <td>500000-1000000</td>\n",
       "      <td>7.19</td>\n",
       "      <td>314</td>\n",
       "    </tr>\n",
       "    <tr>\n",
       "      <th>1</th>\n",
       "      <td>26</td>\n",
       "      <td>1002</td>\n",
       "      <td>Rag Doll Kung Fu</td>\n",
       "      <td>2005-10-12</td>\n",
       "      <td>1</td>\n",
       "      <td>Mark Healey</td>\n",
       "      <td>Mark Healey</td>\n",
       "      <td>windows</td>\n",
       "      <td>0</td>\n",
       "      <td>Single-player;Multi-player</td>\n",
       "      <td>Indie</td>\n",
       "      <td>Indie;Fighting;Multiplayer</td>\n",
       "      <td>0</td>\n",
       "      <td>40</td>\n",
       "      <td>17</td>\n",
       "      <td>0</td>\n",
       "      <td>0</td>\n",
       "      <td>20000-50000</td>\n",
       "      <td>5.99</td>\n",
       "      <td>23</td>\n",
       "    </tr>\n",
       "  </tbody>\n",
       "</table>\n",
       "</div>"
      ],
      "text/plain": [
       "   index  appid              name release_date  english  \\\n",
       "0     30   1500          Darwinia   2005-07-14        1   \n",
       "1     26   1002  Rag Doll Kung Fu   2005-10-12        1   \n",
       "\n",
       "               developer              publisher          platforms  \\\n",
       "0  Introversion Software  Introversion Software  windows;mac;linux   \n",
       "1            Mark Healey            Mark Healey            windows   \n",
       "\n",
       "   required_age                  categories          genres  \\\n",
       "0             0               Single-player  Indie;Strategy   \n",
       "1             0  Single-player;Multi-player           Indie   \n",
       "\n",
       "                steamspy_tags  achievements  positive_ratings  \\\n",
       "0          Strategy;Indie;RTS             0               472   \n",
       "1  Indie;Fighting;Multiplayer             0                40   \n",
       "\n",
       "   negative_ratings  average_playtime  median_playtime          owners  price  \\\n",
       "0               158               182              273  500000-1000000   7.19   \n",
       "1                17                 0                0     20000-50000   5.99   \n",
       "\n",
       "   difference_ratings  \n",
       "0                 314  \n",
       "1                  23  "
      ]
     },
     "execution_count": 437,
     "metadata": {},
     "output_type": "execute_result"
    }
   ],
   "source": [
    "filterDate.head()"
   ]
  },
  {
   "cell_type": "code",
   "execution_count": 412,
   "id": "b2f4fb66",
   "metadata": {},
   "outputs": [
    {
     "data": {
      "text/plain": [
       "<BarContainer object of 2 artists>"
      ]
     },
     "execution_count": 412,
     "metadata": {},
     "output_type": "execute_result"
    },
    {
     "data": {
      "image/png": "[encoded data removed]",
      "text/plain": [
       "<Figure size 432x288 with 1 Axes>"
      ]
     },
     "metadata": {
      "needs_background": "light"
     },
     "output_type": "display_data"
    }
   ],
   "source": [
    "plt.barh(y=filterDate['name'].head(10), width=filterDate['difference_ratings'].head(10))"
   ]
  },
  {
   "cell_type": "code",
   "execution_count": 128,
   "id": "3fe420d4",
   "metadata": {},
   "outputs": [
    {
     "data": {
      "text/plain": [
       "<BarContainer object of 10 artists>"
      ]
     },
     "execution_count": 128,
     "metadata": {},
     "output_type": "execute_result"
    },
    {
     "data": {
      "image/png": "[encoded data removed]",
      "text/plain": [
       "<Figure size 432x288 with 1 Axes>"
      ]
     },
     "metadata": {
      "needs_background": "light"
     },
     "output_type": "display_data"
    }
   ],
   "source": [
    "# plt.bar(x=game['Genre'].head(10), height=game['Global_Sales'].head(10))"
   ]
  },
  {
   "cell_type": "code",
   "execution_count": 372,
   "id": "aa299372",
   "metadata": {},
   "outputs": [
    {
     "name": "stdout",
     "output_type": "stream",
     "text": [
      "0\n",
      "1\n",
      "2\n",
      "3\n",
      "4\n",
      "5\n",
      "6\n",
      "7\n",
      "8\n",
      "9\n",
      "p 11\n"
     ]
    }
   ],
   "source": [
    "length =10\n",
    "p = 1\n",
    "for i in range(length):\n",
    "    p+=1\n",
    "    print(i)\n",
    "print(\"p\", p)"
   ]
  },
  {
   "cell_type": "code",
   "execution_count": 390,
   "id": "a2a913a2",
   "metadata": {},
   "outputs": [
    {
     "data": {
      "text/plain": [
       "13"
      ]
     },
     "execution_count": 390,
     "metadata": {},
     "output_type": "execute_result"
    }
   ],
   "source": [
    "filterDate.columns.get_loc('positive_ratings')"
   ]
  },
  {
   "cell_type": "code",
   "execution_count": 397,
   "id": "b6bf5443",
   "metadata": {},
   "outputs": [
    {
     "data": {
      "text/plain": [
       "3"
      ]
     },
     "execution_count": 397,
     "metadata": {},
     "output_type": "execute_result"
    }
   ],
   "source": [
    "int(7/2)"
   ]
  },
  {
   "cell_type": "code",
   "execution_count": null,
   "id": "ff4dd265",
   "metadata": {},
   "outputs": [],
   "source": []
  }
 ],
 "metadata": {
  "kernelspec": {
   "display_name": "Python 3 (ipykernel)",
   "language": "python",
   "name": "python3"
  },
  "language_info": {
   "codemirror_mode": {
    "name": "ipython",
    "version": 3
   },
   "file_extension": ".py",
   "mimetype": "text/x-python",
   "name": "python",
   "nbconvert_exporter": "python",
   "pygments_lexer": "ipython3",
   "version": "3.9.5"
  }
 },
 "nbformat": 4,
 "nbformat_minor": 5
}
